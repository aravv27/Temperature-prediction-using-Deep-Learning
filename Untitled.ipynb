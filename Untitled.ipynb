{
 "cells": [
  {
   "cell_type": "code",
   "execution_count": 12,
   "id": "7826b50f-15c2-4b38-9608-ba8de0e1ef67",
   "metadata": {},
   "outputs": [
    {
     "name": "stdout",
     "output_type": "stream",
     "text": [
      "Collecting xgboost\n",
      "  Downloading xgboost-2.1.2-py3-none-win_amd64.whl.metadata (2.1 kB)\n",
      "Requirement already satisfied: numpy in c:\\users\\aravind\\anaconda3\\lib\\site-packages (from xgboost) (1.26.4)\n",
      "Requirement already satisfied: scipy in c:\\users\\aravind\\anaconda3\\lib\\site-packages (from xgboost) (1.13.1)\n",
      "Downloading xgboost-2.1.2-py3-none-win_amd64.whl (124.9 MB)\n",
      "   ---------------------------------------- 0.0/124.9 MB ? eta -:--:--\n",
      "   - -------------------------------------- 3.1/124.9 MB 16.8 MB/s eta 0:00:08\n",
      "   -- ------------------------------------- 8.1/124.9 MB 21.0 MB/s eta 0:00:06\n",
      "   ---- ----------------------------------- 13.4/124.9 MB 22.1 MB/s eta 0:00:06\n",
      "   ----- ---------------------------------- 18.1/124.9 MB 22.8 MB/s eta 0:00:05\n",
      "   ------- -------------------------------- 23.3/124.9 MB 23.1 MB/s eta 0:00:05\n",
      "   --------- ------------------------------ 28.6/124.9 MB 23.5 MB/s eta 0:00:05\n",
      "   ---------- ----------------------------- 33.8/124.9 MB 23.9 MB/s eta 0:00:04\n",
      "   ------------ --------------------------- 39.1/124.9 MB 24.1 MB/s eta 0:00:04\n",
      "   -------------- ------------------------- 44.3/124.9 MB 24.3 MB/s eta 0:00:04\n",
      "   --------------- ------------------------ 49.5/124.9 MB 24.3 MB/s eta 0:00:04\n",
      "   ----------------- ---------------------- 54.5/124.9 MB 24.3 MB/s eta 0:00:03\n",
      "   ------------------- -------------------- 59.8/124.9 MB 24.3 MB/s eta 0:00:03\n",
      "   -------------------- ------------------- 64.7/124.9 MB 24.3 MB/s eta 0:00:03\n",
      "   ---------------------- ----------------- 69.7/124.9 MB 24.3 MB/s eta 0:00:03\n",
      "   ------------------------ --------------- 75.0/124.9 MB 24.3 MB/s eta 0:00:03\n",
      "   ------------------------- -------------- 80.2/124.9 MB 24.4 MB/s eta 0:00:02\n",
      "   --------------------------- ------------ 85.5/124.9 MB 24.3 MB/s eta 0:00:02\n",
      "   ---------------------------- ----------- 90.2/124.9 MB 24.4 MB/s eta 0:00:02\n",
      "   ------------------------------ --------- 95.7/124.9 MB 24.4 MB/s eta 0:00:02\n",
      "   ------------------------------- ------- 100.7/124.9 MB 24.4 MB/s eta 0:00:01\n",
      "   --------------------------------- ----- 105.9/124.9 MB 24.4 MB/s eta 0:00:01\n",
      "   ---------------------------------- ---- 111.4/124.9 MB 24.4 MB/s eta 0:00:01\n",
      "   ------------------------------------ -- 116.4/124.9 MB 24.4 MB/s eta 0:00:01\n",
      "   ------------------------------------- - 121.4/124.9 MB 24.5 MB/s eta 0:00:01\n",
      "   --------------------------------------  124.8/124.9 MB 24.4 MB/s eta 0:00:01\n",
      "   --------------------------------------  124.8/124.9 MB 24.4 MB/s eta 0:00:01\n",
      "   --------------------------------------- 124.9/124.9 MB 22.9 MB/s eta 0:00:00\n",
      "Installing collected packages: xgboost\n",
      "Successfully installed xgboost-2.1.2\n"
     ]
    }
   ],
   "source": [
    "!pip install xgboost"
   ]
  },
  {
   "cell_type": "code",
   "execution_count": 2,
   "id": "489d68cc-ddfc-44f9-baef-fd382c57845d",
   "metadata": {},
   "outputs": [],
   "source": [
    "import pandas as pd\n",
    "import numpy as np\n",
    "import glob\n",
    "from sklearn.ensemble import RandomForestRegressor, GradientBoostingRegressor\n",
    "from sklearn.metrics import mean_squared_error, mean_absolute_error, r2_score\n",
    "import xgboost as xgb"
   ]
  },
  {
   "cell_type": "code",
   "execution_count": 3,
   "id": "65cd09e7-6457-4bb7-b7dc-07bf57a16ac4",
   "metadata": {},
   "outputs": [
    {
     "data": {
      "text/plain": [
       "(2500, 2553)"
      ]
     },
     "execution_count": 3,
     "metadata": {},
     "output_type": "execute_result"
    }
   ],
   "source": [
    "training_path = 'D:\\\\GDG DS\\\\dataset\\\\train\\\\*.csv'\n",
    "\n",
    "\n",
    "train = glob.glob(training_path)\n",
    "t_data = pd.concat([pd.read_csv(file) for file in train],ignore_index = True)\n",
    "t_data.shape"
   ]
  },
  {
   "cell_type": "code",
   "execution_count": 4,
   "id": "ea5cd2ad-3964-473a-ac43-97568fe4708c",
   "metadata": {},
   "outputs": [
    {
     "name": "stdout",
     "output_type": "stream",
     "text": [
      "(1000, 2553)\n"
     ]
    },
    {
     "data": {
      "text/html": [
       "<div>\n",
       "<style scoped>\n",
       "    .dataframe tbody tr th:only-of-type {\n",
       "        vertical-align: middle;\n",
       "    }\n",
       "\n",
       "    .dataframe tbody tr th {\n",
       "        vertical-align: top;\n",
       "    }\n",
       "\n",
       "    .dataframe thead th {\n",
       "        text-align: right;\n",
       "    }\n",
       "</style>\n",
       "<table border=\"1\" class=\"dataframe\">\n",
       "  <thead>\n",
       "    <tr style=\"text-align: right;\">\n",
       "      <th></th>\n",
       "      <th>ID</th>\n",
       "      <th>L</th>\n",
       "      <th>nx</th>\n",
       "      <th>val_0</th>\n",
       "      <th>val_1</th>\n",
       "      <th>val_2</th>\n",
       "      <th>val_3</th>\n",
       "      <th>val_4</th>\n",
       "      <th>val_5</th>\n",
       "      <th>val_6</th>\n",
       "      <th>...</th>\n",
       "      <th>val_2540</th>\n",
       "      <th>val_2541</th>\n",
       "      <th>val_2542</th>\n",
       "      <th>val_2543</th>\n",
       "      <th>val_2544</th>\n",
       "      <th>val_2545</th>\n",
       "      <th>val_2546</th>\n",
       "      <th>val_2547</th>\n",
       "      <th>val_2548</th>\n",
       "      <th>val_2549</th>\n",
       "    </tr>\n",
       "  </thead>\n",
       "  <tbody>\n",
       "    <tr>\n",
       "      <th>0</th>\n",
       "      <td>0</td>\n",
       "      <td>0.34</td>\n",
       "      <td>50</td>\n",
       "      <td>36.49</td>\n",
       "      <td>55.92</td>\n",
       "      <td>70.94</td>\n",
       "      <td>89.70</td>\n",
       "      <td>91.27</td>\n",
       "      <td>98.53</td>\n",
       "      <td>98.25</td>\n",
       "      <td>...</td>\n",
       "      <td>32.73</td>\n",
       "      <td>31.12</td>\n",
       "      <td>30.45</td>\n",
       "      <td>24.92</td>\n",
       "      <td>28.33</td>\n",
       "      <td>31.57</td>\n",
       "      <td>35.87</td>\n",
       "      <td>37.55</td>\n",
       "      <td>36.87</td>\n",
       "      <td>35.40</td>\n",
       "    </tr>\n",
       "    <tr>\n",
       "      <th>1</th>\n",
       "      <td>1</td>\n",
       "      <td>1.10</td>\n",
       "      <td>50</td>\n",
       "      <td>31.78</td>\n",
       "      <td>75.30</td>\n",
       "      <td>98.59</td>\n",
       "      <td>96.17</td>\n",
       "      <td>76.22</td>\n",
       "      <td>37.54</td>\n",
       "      <td>28.87</td>\n",
       "      <td>...</td>\n",
       "      <td>48.41</td>\n",
       "      <td>39.01</td>\n",
       "      <td>37.26</td>\n",
       "      <td>37.80</td>\n",
       "      <td>35.56</td>\n",
       "      <td>36.36</td>\n",
       "      <td>36.27</td>\n",
       "      <td>19.56</td>\n",
       "      <td>23.43</td>\n",
       "      <td>13.98</td>\n",
       "    </tr>\n",
       "    <tr>\n",
       "      <th>2</th>\n",
       "      <td>2</td>\n",
       "      <td>0.68</td>\n",
       "      <td>50</td>\n",
       "      <td>41.52</td>\n",
       "      <td>68.43</td>\n",
       "      <td>91.76</td>\n",
       "      <td>99.00</td>\n",
       "      <td>95.98</td>\n",
       "      <td>81.40</td>\n",
       "      <td>57.53</td>\n",
       "      <td>...</td>\n",
       "      <td>47.65</td>\n",
       "      <td>48.23</td>\n",
       "      <td>48.31</td>\n",
       "      <td>50.08</td>\n",
       "      <td>49.59</td>\n",
       "      <td>42.77</td>\n",
       "      <td>48.08</td>\n",
       "      <td>32.77</td>\n",
       "      <td>26.47</td>\n",
       "      <td>16.23</td>\n",
       "    </tr>\n",
       "    <tr>\n",
       "      <th>3</th>\n",
       "      <td>3</td>\n",
       "      <td>0.29</td>\n",
       "      <td>50</td>\n",
       "      <td>42.08</td>\n",
       "      <td>53.85</td>\n",
       "      <td>63.82</td>\n",
       "      <td>75.85</td>\n",
       "      <td>84.90</td>\n",
       "      <td>91.06</td>\n",
       "      <td>97.15</td>\n",
       "      <td>...</td>\n",
       "      <td>47.77</td>\n",
       "      <td>44.82</td>\n",
       "      <td>43.29</td>\n",
       "      <td>43.83</td>\n",
       "      <td>32.02</td>\n",
       "      <td>29.55</td>\n",
       "      <td>23.51</td>\n",
       "      <td>18.13</td>\n",
       "      <td>16.72</td>\n",
       "      <td>9.49</td>\n",
       "    </tr>\n",
       "    <tr>\n",
       "      <th>4</th>\n",
       "      <td>4</td>\n",
       "      <td>0.99</td>\n",
       "      <td>50</td>\n",
       "      <td>28.93</td>\n",
       "      <td>75.68</td>\n",
       "      <td>99.51</td>\n",
       "      <td>94.99</td>\n",
       "      <td>65.31</td>\n",
       "      <td>20.49</td>\n",
       "      <td>5.83</td>\n",
       "      <td>...</td>\n",
       "      <td>28.83</td>\n",
       "      <td>29.52</td>\n",
       "      <td>27.91</td>\n",
       "      <td>41.56</td>\n",
       "      <td>31.70</td>\n",
       "      <td>42.24</td>\n",
       "      <td>37.33</td>\n",
       "      <td>31.62</td>\n",
       "      <td>32.73</td>\n",
       "      <td>21.76</td>\n",
       "    </tr>\n",
       "  </tbody>\n",
       "</table>\n",
       "<p>5 rows × 2553 columns</p>\n",
       "</div>"
      ],
      "text/plain": [
       "   ID     L  nx  val_0  val_1  val_2  val_3  val_4  val_5  val_6  ...  \\\n",
       "0   0  0.34  50  36.49  55.92  70.94  89.70  91.27  98.53  98.25  ...   \n",
       "1   1  1.10  50  31.78  75.30  98.59  96.17  76.22  37.54  28.87  ...   \n",
       "2   2  0.68  50  41.52  68.43  91.76  99.00  95.98  81.40  57.53  ...   \n",
       "3   3  0.29  50  42.08  53.85  63.82  75.85  84.90  91.06  97.15  ...   \n",
       "4   4  0.99  50  28.93  75.68  99.51  94.99  65.31  20.49   5.83  ...   \n",
       "\n",
       "   val_2540  val_2541  val_2542  val_2543  val_2544  val_2545  val_2546  \\\n",
       "0     32.73     31.12     30.45     24.92     28.33     31.57     35.87   \n",
       "1     48.41     39.01     37.26     37.80     35.56     36.36     36.27   \n",
       "2     47.65     48.23     48.31     50.08     49.59     42.77     48.08   \n",
       "3     47.77     44.82     43.29     43.83     32.02     29.55     23.51   \n",
       "4     28.83     29.52     27.91     41.56     31.70     42.24     37.33   \n",
       "\n",
       "   val_2547  val_2548  val_2549  \n",
       "0     37.55     36.87     35.40  \n",
       "1     19.56     23.43     13.98  \n",
       "2     32.77     26.47     16.23  \n",
       "3     18.13     16.72      9.49  \n",
       "4     31.62     32.73     21.76  \n",
       "\n",
       "[5 rows x 2553 columns]"
      ]
     },
     "execution_count": 4,
     "metadata": {},
     "output_type": "execute_result"
    }
   ],
   "source": [
    "valid_path = 'D:\\\\GDG DS\\\\dataset\\\\valid\\\\*.csv'\n",
    "valid = glob.glob(valid_path)\n",
    "v_data = pd.concat([pd.read_csv(vfile) for vfile in valid],ignore_index = True)\n",
    "print(v_data.shape)\n",
    "v_data.head()"
   ]
  },
  {
   "cell_type": "code",
   "execution_count": 5,
   "id": "9560036e-b976-47b0-bc06-caeb5039e8cd",
   "metadata": {},
   "outputs": [
    {
     "name": "stdout",
     "output_type": "stream",
     "text": [
      "(2500, 2551)\n"
     ]
    }
   ],
   "source": [
    "t_data.columns = t_data.columns.str.strip()\n",
    "v_data.columns = v_data.columns.str.strip()\n",
    "\n",
    "# Drop the 'ID' and 'nx' columns and reassign\n",
    "train_data = t_data.drop(['ID', 'nx'], axis=1)\n",
    "valid_data = v_data.drop(['ID', 'nx'], axis=1)\n",
    "print(train_data.shape)"
   ]
  },
  {
   "cell_type": "code",
   "execution_count": 6,
   "id": "80be4b43-be06-433f-92b7-af71b2c9d010",
   "metadata": {},
   "outputs": [],
   "source": [
    "X_train = train_data.iloc[:, :51]  # First column + 50 sensor values\n",
    "y_train = train_data.iloc[:, 51:]  # Next 2500 columns\n",
    "\n",
    "X_valid = valid_data.iloc[:, :51]  # First column + 50 sensor values\n",
    "y_valid = valid_data.iloc[:, 51:]  # Next 2500 columns\n"
   ]
  },
  {
   "cell_type": "code",
   "execution_count": 7,
   "id": "f06f299d-e153-48f4-a7b3-5fb2ed973a2c",
   "metadata": {},
   "outputs": [],
   "source": [
    "def print_metrics(y_true, predictions, model_name):\n",
    "    mse = mean_squared_error(y_true, predictions)\n",
    "    mae = mean_absolute_error(y_true, predictions)\n",
    "    r2 = r2_score(y_true, predictions)\n",
    "    print(f\"{model_name} - MSE: {mse:.4f}, MAE: {mae:.4f}, R²: {r2:.4f}\")\n"
   ]
  },
  {
   "cell_type": "code",
   "execution_count": 8,
   "id": "0b5d0c0e-1709-4a76-a11c-fdedf73c70fc",
   "metadata": {},
   "outputs": [
    {
     "name": "stdout",
     "output_type": "stream",
     "text": [
      "Random Forest - MSE: 42.7809, MAE: 4.7558, R²: 0.7936\n"
     ]
    }
   ],
   "source": [
    "rf_model = RandomForestRegressor()\n",
    "\n",
    "\n",
    "\n",
    "# Train models\n",
    "rf_model.fit(X_train, y_train)\n",
    "\n",
    "\n",
    "# Make predictions\n",
    "rf_predictions = rf_model.predict(X_valid)\n",
    "\n",
    "\n",
    "\n",
    "# Calculate metrics\n",
    "\n",
    "print_metrics(y_valid, rf_predictions, \"Random Forest\")\n",
    "\n"
   ]
  },
  {
   "cell_type": "code",
   "execution_count": 1,
   "id": "ee9bc50a-2455-443e-995f-527f81172410",
   "metadata": {},
   "outputs": [
    {
     "ename": "NameError",
     "evalue": "name 'GradientBoostingRegressor' is not defined",
     "output_type": "error",
     "traceback": [
      "\u001b[1;31m---------------------------------------------------------------------------\u001b[0m",
      "\u001b[1;31mNameError\u001b[0m                                 Traceback (most recent call last)",
      "Cell \u001b[1;32mIn[1], line 1\u001b[0m\n\u001b[1;32m----> 1\u001b[0m gb_model \u001b[38;5;241m=\u001b[39m GradientBoostingRegressor()\n\u001b[0;32m      2\u001b[0m gb_model\u001b[38;5;241m.\u001b[39mfit(X_train, y_train)\n",
      "\u001b[1;31mNameError\u001b[0m: name 'GradientBoostingRegressor' is not defined"
     ]
    }
   ],
   "source": [
    "gb_model = GradientBoostingRegressor()\n",
    "gb_model.fit(X_train, y_train)\n",
    "gb_predictions = gb_model.predict(X_valid)\n",
    "print_metrics(y_valid, gb_predictions, \"Gradient Boosting\")"
   ]
  },
  {
   "cell_type": "code",
   "execution_count": null,
   "id": "3afca9c7-8c63-40f9-b994-0a3b4c33c61e",
   "metadata": {},
   "outputs": [],
   "source": [
    "xgb_model = xgb.XGBRegressor()\n",
    "xgb_model.fit(X_train, y_train)\n",
    "xgb_predictions = xgb_model.predict(X_valid)\n",
    "print_metrics(y_valid, xgb_predictions, \"XGBoost\")"
   ]
  },
  {
   "cell_type": "code",
   "execution_count": null,
   "id": "e01416ce-d300-49a2-aeb2-5675e8b489cf",
   "metadata": {},
   "outputs": [],
   "source": []
  }
 ],
 "metadata": {
  "kernelspec": {
   "display_name": "Python 3 (ipykernel)",
   "language": "python",
   "name": "python3"
  },
  "language_info": {
   "codemirror_mode": {
    "name": "ipython",
    "version": 3
   },
   "file_extension": ".py",
   "mimetype": "text/x-python",
   "name": "python",
   "nbconvert_exporter": "python",
   "pygments_lexer": "ipython3",
   "version": "3.12.7"
  }
 },
 "nbformat": 4,
 "nbformat_minor": 5
}
